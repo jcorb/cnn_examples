{
 "cells": [
  {
   "cell_type": "markdown",
   "metadata": {},
   "source": [
    "# Creating TF Record Dataset\n",
    "\n",
    "Expalantion of how to create a TensorFlow Record based dataset.  Code is from https://github.com/tensorflow/models/blob/master/slim/datasets/download_and_convert_cifar10.py"
   ]
  },
  {
   "cell_type": "code",
   "execution_count": 1,
   "metadata": {
    "collapsed": true
   },
   "outputs": [],
   "source": [
    "import os\n",
    "import sys\n",
    "sys.path.append('../python')\n",
    "import tarfile\n",
    "\n",
    "import numpy as np\n",
    "from six.moves import cPickle\n",
    "from six.moves import urllib\n",
    "import tensorflow as tf\n",
    "\n",
    "import dataset_utils"
   ]
  },
  {
   "cell_type": "markdown",
   "metadata": {},
   "source": [
    "Some parameters:"
   ]
  },
  {
   "cell_type": "code",
   "execution_count": 2,
   "metadata": {
    "collapsed": true
   },
   "outputs": [],
   "source": [
    "# The URL where the CIFAR data can be downloaded.\n",
    "_DATA_URL = 'https://www.cs.toronto.edu/~kriz/cifar-10-python.tar.gz'\n",
    "\n",
    "# The number of training files.\n",
    "_NUM_TRAIN_FILES = 5\n",
    "\n",
    "# The height and width of each image.\n",
    "_IMAGE_SIZE = 32\n",
    "\n",
    "# The names of the classes.\n",
    "_CLASS_NAMES = [\n",
    "    'airplane',\n",
    "    'automobile',\n",
    "    'bird',\n",
    "    'cat',\n",
    "    'deer',\n",
    "    'dog',\n",
    "    'frog',\n",
    "    'horse',\n",
    "    'ship',\n",
    "    'truck',\n",
    "]"
   ]
  },
  {
   "cell_type": "markdown",
   "metadata": {},
   "source": [
    "This function loads the cifar10 data from a python pickle and then writes the image out as a TensorFlow record."
   ]
  },
  {
   "cell_type": "code",
   "execution_count": 3,
   "metadata": {
    "collapsed": true
   },
   "outputs": [],
   "source": [
    "def _add_to_tfrecord(filename, tfrecord_writer, offset=0):\n",
    "    \"\"\"Loads data from the cifar10 pickle files and writes files to a TFRecord.\n",
    "    Args:\n",
    "    filename: The filename of the cifar10 pickle file.\n",
    "    tfrecord_writer: The TFRecord writer to use for writing.\n",
    "    offset: An offset into the absolute number of images previously written.\n",
    "    Returns:\n",
    "    The new offset.\n",
    "    \"\"\"\n",
    "    \n",
    "    ## Load the dataset here - in this case it is a pickled python dictionary containing the images and the\n",
    "    ## labels\n",
    "    with tf.gfile.Open(filename, 'rb') as f:\n",
    "        if sys.version_info < (3,):\n",
    "            data = cPickle.load(f)\n",
    "        else:\n",
    "            data = cPickle.load(f, encoding='bytes')\n",
    "\n",
    "    images = data[b'data']\n",
    "    num_images = images.shape[0]\n",
    "\n",
    "    images = images.reshape((num_images, 3, 32, 32))\n",
    "    labels = data[b'labels']\n",
    "    \n",
    "    ## set up the computation graph\n",
    "    with tf.Graph().as_default():\n",
    "        ## create an image placeholder \n",
    "        image_placeholder = tf.placeholder(dtype=tf.uint8)\n",
    "        ## the output images will be in png format, this sets this up\n",
    "        encoded_image = tf.image.encode_png(image_placeholder)\n",
    "        ## start a session\n",
    "        with tf.Session('') as sess:\n",
    "            ## loop over the images in the file\n",
    "            for j in range(num_images):\n",
    "                sys.stdout.write('\\r>> Reading file [%s] image %d/%d' % (\n",
    "                    filename, offset + j + 1, offset + num_images))\n",
    "                sys.stdout.flush()\n",
    "\n",
    "                image = np.squeeze(images[j]).transpose((1, 2, 0))\n",
    "                label = labels[j]\n",
    "                ## converts image to png here\n",
    "                png_string = sess.run(encoded_image,\n",
    "                                      feed_dict={image_placeholder: image})\n",
    "                \n",
    "#                 example = \n",
    "                ## creates tf_example (see dataset_utils.py)\n",
    "                example = dataset_utils.image_to_tfexample(\n",
    "                    png_string, b'png', _IMAGE_SIZE, _IMAGE_SIZE, label)\n",
    "                ## write to the tensorflow record\n",
    "                tfrecord_writer.write(example.SerializeToString())\n",
    "    ##keep track of the offset\n",
    "    return offset + num_images\n"
   ]
  },
  {
   "cell_type": "code",
   "execution_count": 5,
   "metadata": {
    "collapsed": true
   },
   "outputs": [],
   "source": [
    "def run(dataset_dir):\n",
    "    \"\"\"Runs the download and conversion operation.\n",
    "    Args:\n",
    "    dataset_dir: The dataset directory where the dataset is stored.\n",
    "    \"\"\"\n",
    "    ## note: tf.gfile is used instead of python standard library functions as it is more portable \n",
    "    if not tf.gfile.Exists(dataset_dir):\n",
    "        tf.gfile.MakeDirs(dataset_dir)\n",
    "\n",
    "    training_filename = _get_output_filename(dataset_dir, 'train')\n",
    "    testing_filename = _get_output_filename(dataset_dir, 'test')\n",
    "\n",
    "    if tf.gfile.Exists(training_filename) and tf.gfile.Exists(testing_filename):\n",
    "        print('Dataset files already exist. Exiting without re-creating them.')\n",
    "        \n",
    "        return\n",
    "\n",
    "    dataset_utils.download_and_uncompress_tarball(_DATA_URL, dataset_dir)\n",
    "\n",
    "    # First, process the training data:\n",
    "    with tf.python_io.TFRecordWriter(training_filename) as tfrecord_writer:\n",
    "        offset = 0\n",
    "        for i in range(_NUM_TRAIN_FILES):\n",
    "            filename = os.path.join(dataset_dir,\n",
    "                              'cifar-10-batches-py',\n",
    "                              'data_batch_%d' % (i + 1))  # 1-indexed.\n",
    "            offset = _add_to_tfrecord(filename, tfrecord_writer, offset)\n",
    "\n",
    "    # Next, process the testing data:\n",
    "    with tf.python_io.TFRecordWriter(testing_filename) as tfrecord_writer:\n",
    "        filename = os.path.join(dataset_dir,\n",
    "                            'cifar-10-batches-py',\n",
    "                            'test_batch')\n",
    "        _add_to_tfrecord(filename, tfrecord_writer)\n",
    "\n",
    "    # Finally, write the labels file:\n",
    "    labels_to_class_names = dict(zip(range(len(_CLASS_NAMES)), _CLASS_NAMES))\n",
    "    dataset_utils.write_label_file(labels_to_class_names, dataset_dir)\n",
    "\n",
    "    _clean_up_temporary_files(dataset_dir)\n",
    "    \n",
    "    print('\\nFinished converting the Cifar10 dataset!')"
   ]
  },
  {
   "cell_type": "markdown",
   "metadata": {},
   "source": [
    "Some helper functions"
   ]
  },
  {
   "cell_type": "code",
   "execution_count": 7,
   "metadata": {
    "collapsed": true
   },
   "outputs": [],
   "source": [
    "def _get_output_filename(dataset_dir, split_name):\n",
    "    \"\"\"Creates the output filename.\n",
    "    Args:\n",
    "    dataset_dir: The dataset directory where the dataset is stored.\n",
    "    split_name: The name of the train/test split.\n",
    "    Returns:\n",
    "    An absolute file path.\n",
    "    \"\"\"\n",
    "    return '%s/cifar10_%s.tfrecord' % (dataset_dir, split_name)\n",
    "\n",
    "\n",
    "def _download_and_uncompress_dataset(dataset_dir):\n",
    "    \"\"\"Downloads cifar10 and uncompresses it locally.\n",
    "    Args:\n",
    "    dataset_dir: The directory where the temporary files are stored.\n",
    "    \"\"\"\n",
    "    filename = _DATA_URL.split('/')[-1]\n",
    "    filepath = os.path.join(dataset_dir, filename)\n",
    "\n",
    "    if not os.path.exists(filepath):\n",
    "        def _progress(count, block_size, total_size):\n",
    "            sys.stdout.write('\\r>> Downloading %s %.1f%%' % (\n",
    "              filename, float(count * block_size) / float(total_size) * 100.0))\n",
    "            sys.stdout.flush()\n",
    "        filepath, _ = urllib.request.urlretrieve(_DATA_URL, filepath, _progress)\n",
    "        print()\n",
    "        statinfo = os.stat(filepath)\n",
    "        print('Successfully downloaded', filename, statinfo.st_size, 'bytes.')\n",
    "        tarfile.open(filepath, 'r:gz').extractall(dataset_dir)\n",
    "\n",
    "\n",
    "def _clean_up_temporary_files(dataset_dir):\n",
    "    \"\"\"Removes temporary files used to create the dataset.\n",
    "    Args:\n",
    "    dataset_dir: The directory where the temporary files are stored.\n",
    "    \"\"\"\n",
    "    filename = _DATA_URL.split('/')[-1]\n",
    "    filepath = os.path.join(dataset_dir, filename)\n",
    "    tf.gfile.Remove(filepath)\n",
    "\n",
    "    tmp_dir = os.path.join(dataset_dir, 'cifar-10-batches-py')\n",
    "    tf.gfile.DeleteRecursively(tmp_dir)\n"
   ]
  },
  {
   "cell_type": "code",
   "execution_count": 8,
   "metadata": {},
   "outputs": [
    {
     "name": "stdout",
     "output_type": "stream",
     "text": [
      ">> Downloading cifar-10-python.tar.gz 100.0%\n",
      "Successfully downloaded cifar-10-python.tar.gz 170498071 bytes.\n",
      ">> Reading file [../data/cifar10_data/cifar-10-batches-py/test_batch] image 10000/1000000\n",
      "Finished converting the Cifar10 dataset!\n"
     ]
    }
   ],
   "source": [
    "dataset_dir = '../data/cifar10_data/'\n",
    "run(dataset_dir)"
   ]
  },
  {
   "cell_type": "markdown",
   "metadata": {},
   "source": [
    "# Loading the TF record into a Dataset"
   ]
  },
  {
   "cell_type": "code",
   "execution_count": 78,
   "metadata": {},
   "outputs": [],
   "source": [
    "\n",
    "def _parse_function(example_proto):\n",
    "    features={\n",
    "      'image/encoded': tf.FixedLenFeature([], tf.string, default_value=\"\"),\n",
    "      'image/format': tf.FixedLenFeature([], tf.string, default_value=\"\"),\n",
    "      'image/class/label': tf.FixedLenFeature([], tf.int64, default_value=0),\n",
    "      'image/height': tf.FixedLenFeature([], tf.int64, default_value=0),\n",
    "      'image/width': tf.FixedLenFeature([], tf.int64, default_value=0),\n",
    "    }\n",
    "    parsed_features = tf.parse_single_example(example_proto, features)\n",
    "#     print(parsed_features)\n",
    "#     print(parsed_features[\"image/encoded\"])\n",
    "#     print(parsed_features[\"image/class/label\"])\n",
    "#     stop\n",
    "    image = tf.image.decode_png(parsed_features[\"image/encoded\"], dtype=tf.uint8, channels=3)\n",
    "    return image, parsed_features[\"image/class/label\"], parsed_features[\"image/format\"]"
   ]
  },
  {
   "cell_type": "code",
   "execution_count": 80,
   "metadata": {},
   "outputs": [
    {
     "name": "stdout",
     "output_type": "stream",
     "text": [
      "(array([[[[ 59,  62,  63],\n",
      "         [ 43,  46,  45],\n",
      "         [ 50,  48,  43],\n",
      "         ..., \n",
      "         [158, 132, 108],\n",
      "         [152, 125, 102],\n",
      "         [148, 124, 103]],\n",
      "\n",
      "        [[ 16,  20,  20],\n",
      "         [  0,   0,   0],\n",
      "         [ 18,   8,   0],\n",
      "         ..., \n",
      "         [123,  88,  55],\n",
      "         [119,  83,  50],\n",
      "         [122,  87,  57]],\n",
      "\n",
      "        [[ 25,  24,  21],\n",
      "         [ 16,   7,   0],\n",
      "         [ 49,  27,   8],\n",
      "         ..., \n",
      "         [118,  84,  50],\n",
      "         [120,  84,  50],\n",
      "         [109,  73,  42]],\n",
      "\n",
      "        ..., \n",
      "        [[208, 170,  96],\n",
      "         [201, 153,  34],\n",
      "         [198, 161,  26],\n",
      "         ..., \n",
      "         [160, 133,  70],\n",
      "         [ 56,  31,   7],\n",
      "         [ 53,  34,  20]],\n",
      "\n",
      "        [[180, 139,  96],\n",
      "         [173, 123,  42],\n",
      "         [186, 144,  30],\n",
      "         ..., \n",
      "         [184, 148,  94],\n",
      "         [ 97,  62,  34],\n",
      "         [ 83,  53,  34]],\n",
      "\n",
      "        [[177, 144, 116],\n",
      "         [168, 129,  94],\n",
      "         [179, 142,  87],\n",
      "         ..., \n",
      "         [216, 184, 140],\n",
      "         [151, 118,  84],\n",
      "         [123,  92,  72]]]], dtype=uint8), array([6]), array([b'png'], dtype=object))\n",
      "(1, 32, 32, 3)\n"
     ]
    }
   ],
   "source": [
    "filenames = tf.placeholder(tf.string, shape=[None])\n",
    "dataset = tf.contrib.data.TFRecordDataset(filenames)\n",
    "dataset = dataset.map(_parse_function)  # Parse the record into tensors.\n",
    "dataset = dataset.repeat(1)  # Repeat the input once\n",
    "dataset = dataset.batch(1)\n",
    "iterator = dataset.make_initializable_iterator()\n",
    "next_element = iterator.get_next()\n",
    "\n",
    "# You can feed the initializer with the appropriate filenames for the current\n",
    "# phase of execution, e.g. training vs. validation.\n",
    "\n",
    "# Initialize `iterator` with training data.\n",
    "with tf.Session('') as sess:\n",
    "    training_filenames = [\"../data/cifar10_data/cifar10_train.tfrecord\"]\n",
    "    sess.run(iterator.initializer, feed_dict={filenames: training_filenames})\n",
    "    for i in range(1):\n",
    "        value = sess.run(next_element)\n",
    "        print(value)\n",
    "        print(value[0].shape)\n",
    "# with tf.Session('') as sess:\n",
    "#     # Initialize `iterator` with validation data.\n",
    "#     validation_filenames = [\"../data/cifar10_data/cifar10_test.tfrecord\"]\n",
    "#     sess.run(iterator.initializer, feed_dict={filenames: validation_filenames})"
   ]
  },
  {
   "cell_type": "code",
   "execution_count": 58,
   "metadata": {},
   "outputs": [],
   "source": [
    "%matplotlib inline"
   ]
  },
  {
   "cell_type": "code",
   "execution_count": 59,
   "metadata": {
    "collapsed": true
   },
   "outputs": [],
   "source": [
    "import matplotlib.pyplot as plt"
   ]
  },
  {
   "cell_type": "code",
   "execution_count": 81,
   "metadata": {},
   "outputs": [
    {
     "data": {
      "text/plain": [
       "<matplotlib.image.AxesImage at 0x125b5b588>"
      ]
     },
     "execution_count": 81,
     "metadata": {},
     "output_type": "execute_result"
    },
    {
     "data": {
      "image/png": "[encoded data removed]",
      "text/plain": [
       "<matplotlib.figure.Figure at 0x125cc5a90>"
      ]
     },
     "metadata": {},
     "output_type": "display_data"
    }
   ],
   "source": [
    "plt.imshow(np.squeeze(value[0]))"
   ]
  },
  {
   "cell_type": "code",
   "execution_count": 64,
   "metadata": {},
   "outputs": [
    {
     "data": {
      "text/plain": [
       "array([[137,  80,  78, ..., 252,  24, 237],\n",
       "       [163,   0,   0, ..., 189, 124, 110],\n",
       "       [108,  76, 226, ...,  81,  16, 193],\n",
       "       ..., \n",
       "       [234, 114, 179, ..., 212, 171, 211],\n",
       "       [  5, 161, 145, ...,  80, 134, 240],\n",
       "       [213, 226, 140, ...,  65, 238, 136]], dtype=uint8)"
      ]
     },
     "execution_count": 64,
     "metadata": {},
     "output_type": "execute_result"
    }
   ],
   "source": [
    "value[0][0,0:32*32].reshape(32,32)"
   ]
  },
  {
   "cell_type": "code",
   "execution_count": null,
   "metadata": {
    "collapsed": true
   },
   "outputs": [],
   "source": [
    "valu"
   ]
  }
 ],
 "metadata": {
  "kernelspec": {
   "display_name": "Python 3",
   "language": "python",
   "name": "python3"
  },
  "language_info": {
   "codemirror_mode": {
    "name": "ipython",
    "version": 3
   },
   "file_extension": ".py",
   "mimetype": "text/x-python",
   "name": "python",
   "nbconvert_exporter": "python",
   "pygments_lexer": "ipython3",
   "version": "3.6.2"
  }
 },
 "nbformat": 4,
 "nbformat_minor": 2
}
